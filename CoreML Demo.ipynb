{
 "cells": [
  {
   "cell_type": "markdown",
   "metadata": {},
   "source": [
    "# CoreML Demo\n",
    "\n",
    "Let's make an ML model to import into a Swift application! We'll make a very simple model that is trained to test whether a given value is greater than five.\n",
    "\n",
    "Note: coremltools is only available for Python 2.7 as of 2017-08-13\n",
    "\n",
    "To start, we'll import the tools we need to create our data, train the model, and export it for Swift."
   ]
  },
  {
   "cell_type": "code",
   "execution_count": 1,
   "metadata": {
    "collapsed": true
   },
   "outputs": [],
   "source": [
    "import coremltools\n",
    "import numpy as np\n",
    "from sklearn.tree import DecisionTreeClassifier"
   ]
  },
  {
   "cell_type": "markdown",
   "metadata": {},
   "source": [
    "## Create the Data\n",
    "\n",
    "First, we'll create our training data. In machine learning, we call our inputs \"features\" and our expected outputs \"labels\". For our model, we'll create a 2D array of integer values from 1 to 10 for our features and a 2D array of five False and 5 True values indicating that the corresponding feature (by index) is greater than five."
   ]
  },
  {
   "cell_type": "code",
   "execution_count": 2,
   "metadata": {},
   "outputs": [
    {
     "name": "stdout",
     "output_type": "stream",
     "text": [
      "2D array of training data:\n",
      "[[ 1]\n",
      " [ 2]\n",
      " [ 3]\n",
      " [ 4]\n",
      " [ 5]\n",
      " [ 6]\n",
      " [ 7]\n",
      " [ 8]\n",
      " [ 9]\n",
      " [10]]\n",
      "2D array of expected values:\n",
      "[[False]\n",
      " [False]\n",
      " [False]\n",
      " [False]\n",
      " [False]\n",
      " [ True]\n",
      " [ True]\n",
      " [ True]\n",
      " [ True]\n",
      " [ True]]\n"
     ]
    }
   ],
   "source": [
    "# Python's range func is non-inclusive\n",
    "features = np.array([range(1, 11)]).reshape(-1, 1)\n",
    "labels = np.array([False]*5 + [True]*5).reshape(-1, 1)\n",
    "\n",
    "print '2D array of training data:\\n', features\n",
    "print '2D array of expected values:\\n', labels"
   ]
  },
  {
   "cell_type": "markdown",
   "metadata": {},
   "source": [
    "## Train the model\n",
    "\n",
    "Next we'll create and test our model."
   ]
  },
  {
   "cell_type": "code",
   "execution_count": 3,
   "metadata": {},
   "outputs": [
    {
     "data": {
      "text/plain": [
       "array([False, False, False, False, False,  True,  True,  True,  True,  True], dtype=bool)"
      ]
     },
     "execution_count": 3,
     "metadata": {},
     "output_type": "execute_result"
    }
   ],
   "source": [
    "tree = DecisionTreeClassifier()\n",
    "tree.fit(features, labels)\n",
    "tree.predict(features)"
   ]
  },
  {
   "cell_type": "markdown",
   "metadata": {},
   "source": [
    "The first five values should be False followed by five True. Scikit-Learn uses Numpy under the hood, so the export was a boolean typed array. Since Python doesn't care about types (just the methods they implement), we can use it like any other list.\n",
    "\n",
    "## Export to .mlmodel\n",
    "\n",
    "Now we're going to convert our sklearn model into a CoreML model and add metadata.\n",
    "\n",
    "You might need to run this command to switch to the beta version of Xcode command line tools:\n",
    "\n",
    "`sudo xcode-select --switch /Applications/Xcode-beta.app/Contents/Developer`"
   ]
  },
  {
   "cell_type": "code",
   "execution_count": 4,
   "metadata": {
    "collapsed": true
   },
   "outputs": [],
   "source": [
    "mlmodel = coremltools.converters.sklearn.convert(\n",
    "    tree,\n",
    "    input_features=['number'],\n",
    "    output_feature_names='isgt5'\n",
    ")\n",
    "\n",
    "mlmodel.author = 'Michael duPont'\n",
    "mlmodel.license = 'MIT'\n",
    "mlmodel.short_description = 'Determines whether a number is greater than 5'\n",
    "\n",
    "# Set feature descriptions manually\n",
    "mlmodel.input_description['number'] = 'Number'\n",
    "\n",
    "# Set the output descriptions\n",
    "mlmodel.output_description['isgt5'] = '0-False 1-True: The value is greater than 5'"
   ]
  },
  {
   "cell_type": "markdown",
   "metadata": {},
   "source": [
    "And finally we save the model."
   ]
  },
  {
   "cell_type": "code",
   "execution_count": 5,
   "metadata": {
    "collapsed": true
   },
   "outputs": [],
   "source": [
    "mlmodel.save('GreaterThanFive.mlmodel')"
   ]
  },
  {
   "cell_type": "markdown",
   "metadata": {},
   "source": [
    "Here's a quick look at the converters we can use:"
   ]
  },
  {
   "cell_type": "code",
   "execution_count": 6,
   "metadata": {},
   "outputs": [
    {
     "data": {
      "text/plain": [
       "['caffe', 'keras', 'libsvm', 'sklearn', 'xgboost']"
      ]
     },
     "execution_count": 6,
     "metadata": {},
     "output_type": "execute_result"
    }
   ],
   "source": [
    "[s for s in dir(coremltools.converters) if not s.startswith('__')]"
   ]
  },
  {
   "cell_type": "markdown",
   "metadata": {
    "collapsed": true
   },
   "source": [
    "## Test the .mlmodel\n",
    "\n",
    "Now let's test our exported model here with the original data."
   ]
  },
  {
   "cell_type": "code",
   "execution_count": 7,
   "metadata": {},
   "outputs": [
    {
     "name": "stdout",
     "output_type": "stream",
     "text": [
      "{u'__feature_vector__': array([ 8.]), u'isgt5': 1L, u'number': 8L, u'classProbability': {0L: 0.0, 1L: 1.0}}\n",
      "\n",
      "8 is greater than 5: True\n",
      "\n",
      "Output probabilities:\n",
      "Value: 0  - Probability: 0.0\n",
      "Value: 1  - Probability: 1.0\n"
     ]
    }
   ],
   "source": [
    "imported_model = coremltools.models.MLModel('GreaterThanFive.mlmodel')\n",
    "\n",
    "# Make predictions\n",
    "prediction = imported_model.predict({'number': 8})\n",
    "print(prediction)\n",
    "print\n",
    "print '8 is greater than 5:', bool(prediction['isgt5'])\n",
    "print\n",
    "print 'Output probabilities:'\n",
    "for k, v in prediction['classProbability'].iteritems():\n",
    "    print 'Value:', k, ' - Probability:', v"
   ]
  },
  {
   "cell_type": "markdown",
   "metadata": {},
   "source": [
    "Two important things to notice:\n",
    "\n",
    "1. Our input and output values are specified by the name we gave them\n",
    "2. Our output type was changed from a Boolean to an Int\n",
    "\n",
    "This will be a major point of contention because the coremltools library is having to convert your Python model's expected data types into Swift CoreML-compatible types.\n",
    "\n",
    "Let's run our training data back through our imported model and make sure our values still make sense."
   ]
  },
  {
   "cell_type": "code",
   "execution_count": 8,
   "metadata": {},
   "outputs": [
    {
     "data": {
      "text/plain": [
       "{u'__feature_vector__': array([ 6.9]),\n",
       " u'classProbability': {0L: 0.0, 1L: 1.0},\n",
       " u'isgt5': 1L,\n",
       " u'number': 6.9}"
      ]
     },
     "execution_count": 8,
     "metadata": {},
     "output_type": "execute_result"
    }
   ],
   "source": [
    "imported_model.predict({'number': 6.9})"
   ]
  },
  {
   "cell_type": "code",
   "execution_count": 9,
   "metadata": {},
   "outputs": [
    {
     "name": "stdout",
     "output_type": "stream",
     "text": [
      "Key is greater than 5:\n"
     ]
    },
    {
     "data": {
      "text/plain": [
       "{1: False,\n",
       " 2: False,\n",
       " 3: False,\n",
       " 4: False,\n",
       " 5: False,\n",
       " 6: True,\n",
       " 7: True,\n",
       " 8: True,\n",
       " 9: True,\n",
       " 10: True}"
      ]
     },
     "execution_count": 9,
     "metadata": {},
     "output_type": "execute_result"
    }
   ],
   "source": [
    "print 'Key is greater than 5:'\n",
    "dict(zip(features.reshape(-1), [imported_model.predict({'number': f[0]})['isgt5'] == 1L for f in list(features)]))"
   ]
  },
  {
   "cell_type": "markdown",
   "metadata": {},
   "source": [
    "## Introspection\n",
    "\n",
    "Let's get a quick look at the fields available to us:"
   ]
  },
  {
   "cell_type": "code",
   "execution_count": 10,
   "metadata": {},
   "outputs": [
    {
     "data": {
      "text/plain": [
       "['author',\n",
       " 'get_spec',\n",
       " 'input_description',\n",
       " 'license',\n",
       " 'output_description',\n",
       " 'predict',\n",
       " 'save',\n",
       " 'short_description',\n",
       " 'user_defined_metadata']"
      ]
     },
     "execution_count": 10,
     "metadata": {},
     "output_type": "execute_result"
    }
   ],
   "source": [
    "[s for s in dir(imported_model) if not s.startswith('_')]"
   ]
  },
  {
   "cell_type": "markdown",
   "metadata": {},
   "source": [
    "We can actually get a full breakdown of the entire spec of our .mlmodel"
   ]
  },
  {
   "cell_type": "code",
   "execution_count": 11,
   "metadata": {},
   "outputs": [
    {
     "data": {
      "text/plain": [
       "specificationVersion: 1\n",
       "description {\n",
       "  input {\n",
       "    name: \"number\"\n",
       "    shortDescription: \"Number\"\n",
       "    type {\n",
       "      doubleType {\n",
       "      }\n",
       "    }\n",
       "  }\n",
       "  output {\n",
       "    name: \"isgt5\"\n",
       "    shortDescription: \"0-False 1-True: The value is greater than 5\"\n",
       "    type {\n",
       "      int64Type {\n",
       "      }\n",
       "    }\n",
       "  }\n",
       "  output {\n",
       "    name: \"classProbability\"\n",
       "    type {\n",
       "      dictionaryType {\n",
       "        int64KeyType {\n",
       "        }\n",
       "      }\n",
       "    }\n",
       "  }\n",
       "  predictedFeatureName: \"isgt5\"\n",
       "  predictedProbabilitiesName: \"classProbability\"\n",
       "  metadata {\n",
       "    shortDescription: \"Determines whether a number is greater than 5\"\n",
       "    author: \"Michael duPont\"\n",
       "    license: \"MIT\"\n",
       "  }\n",
       "}\n",
       "pipelineClassifier {\n",
       "  pipeline {\n",
       "    models {\n",
       "      specificationVersion: 1\n",
       "      description {\n",
       "        input {\n",
       "          name: \"number\"\n",
       "          type {\n",
       "            doubleType {\n",
       "            }\n",
       "          }\n",
       "        }\n",
       "        output {\n",
       "          name: \"__feature_vector__\"\n",
       "          type {\n",
       "            multiArrayType {\n",
       "              shape: 1\n",
       "              dataType: DOUBLE\n",
       "            }\n",
       "          }\n",
       "        }\n",
       "      }\n",
       "      featureVectorizer {\n",
       "        inputList {\n",
       "          inputColumn: \"number\"\n",
       "          inputDimensions: 1\n",
       "        }\n",
       "      }\n",
       "    }\n",
       "    models {\n",
       "      specificationVersion: 1\n",
       "      description {\n",
       "        input {\n",
       "          name: \"__feature_vector__\"\n",
       "          type {\n",
       "            multiArrayType {\n",
       "              shape: 1\n",
       "              dataType: DOUBLE\n",
       "            }\n",
       "          }\n",
       "        }\n",
       "        output {\n",
       "          name: \"isgt5\"\n",
       "          type {\n",
       "            int64Type {\n",
       "            }\n",
       "          }\n",
       "        }\n",
       "        output {\n",
       "          name: \"classProbability\"\n",
       "          type {\n",
       "            dictionaryType {\n",
       "              int64KeyType {\n",
       "              }\n",
       "            }\n",
       "          }\n",
       "        }\n",
       "        predictedFeatureName: \"isgt5\"\n",
       "        predictedProbabilitiesName: \"classProbability\"\n",
       "      }\n",
       "      treeEnsembleClassifier {\n",
       "        treeEnsemble {\n",
       "          nodes {\n",
       "            branchFeatureValue: 5.5\n",
       "            trueChildNodeId: 1\n",
       "            falseChildNodeId: 2\n",
       "          }\n",
       "          nodes {\n",
       "            nodeId: 1\n",
       "            nodeBehavior: LeafNode\n",
       "            evaluationInfo {\n",
       "            }\n",
       "          }\n",
       "          nodes {\n",
       "            nodeId: 2\n",
       "            nodeBehavior: LeafNode\n",
       "            evaluationInfo {\n",
       "              evaluationValue: 1.0\n",
       "            }\n",
       "          }\n",
       "          numPredictionDimensions: 1\n",
       "          basePredictionValue: 0.0\n",
       "        }\n",
       "        int64ClassLabels {\n",
       "          vector: 0\n",
       "          vector: 1\n",
       "        }\n",
       "      }\n",
       "    }\n",
       "  }\n",
       "}"
      ]
     },
     "execution_count": 11,
     "metadata": {},
     "output_type": "execute_result"
    }
   ],
   "source": [
    "imported_model.get_spec()"
   ]
  }
 ],
 "metadata": {
  "kernelspec": {
   "display_name": "Python 2",
   "language": "python",
   "name": "python2"
  },
  "language_info": {
   "codemirror_mode": {
    "name": "ipython",
    "version": 2
   },
   "file_extension": ".py",
   "mimetype": "text/x-python",
   "name": "python",
   "nbconvert_exporter": "python",
   "pygments_lexer": "ipython2",
   "version": "2.7.13"
  }
 },
 "nbformat": 4,
 "nbformat_minor": 2
}
